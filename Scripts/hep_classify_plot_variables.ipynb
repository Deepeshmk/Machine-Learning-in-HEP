{
 "cells": [
  {
   "cell_type": "code",
   "execution_count": 1,
   "id": "b316422c",
   "metadata": {},
   "outputs": [],
   "source": [
    "#!/usr/bin/env python\n",
    "# coding: utf-8\n",
    "\n",
    "\n",
    "import numpy as np\n",
    "import pandas as pd\n",
    "import matplotlib.pyplot as plt\n",
    "\n",
    "import os\n",
    "import warnings\n",
    "warnings.filterwarnings('ignore')\n",
    "\n",
    "outputname = 'hep_classify_output_var.pdf'\n",
    "from matplotlib.backends.backend_pdf import PdfPages\n",
    "pp = PdfPages(outputname)\n",
    "\n",
    "col_names=['Pt0','Pt1','Pt2','NBJet','Met','MaxDphi_LMet','MaxDphi_LL','MinDphi_LL','LLPairPt','Mt0','Mt1','Mt2']\n",
    "cols = list(range(0,12))\n",
    "\n",
    "WZBk = pd.read_csv('input_WZ.txt',sep=' ',index_col=None, usecols=cols,names=col_names)\n",
    "ZZBk = pd.read_csv('input_ZZ.txt',sep=' ',index_col=None, usecols=cols,names=col_names)\n",
    "\n",
    "\n",
    "\n",
    "\n",
    "def plotVars(mybins,plotnames):\n",
    "    for pname in plotnames:\n",
    "        plt.figure(figsize=(8,8))\n",
    "        plt.hist(WZBk[pname],bins=mybins,histtype='step',label=\"WZ\",linewidth=3, color='blue',density=False,log=False)\n",
    "        plt.hist(ZZBk[pname],bins=mybins,histtype='step',label=\"ZZ\",linewidth=3, color='red',density=False,log=False)\n",
    "        plt.legend(loc='upper center')\n",
    "        plt.xlabel(pname,fontsize=20)\n",
    "        plt.ylabel('Entries',fontsize=20)\n",
    "        plt.title(pname,fontsize=20)\n",
    "        plt.savefig(pp,format='pdf')\n",
    "        plt.close()\n",
    "\n",
    "\n",
    "plotnames=['Pt0','Pt1','Pt2','Met','LLPairPt','Mt0','Mt1','Mt2']\n",
    "mybins = np.arange(0,1000,20)\n",
    "plotVars(mybins,plotnames)\n",
    "\n",
    "plotnames=['MaxDphi_LMet','MaxDphi_LL','MinDphi_LL']\n",
    "mybins = np.arange(0,3.2,0.1)\n",
    "plotVars(mybins,plotnames)\n",
    "\n",
    "plotnames=['NBJet']\n",
    "mybins = np.arange(0,10,1)\n",
    "plotVars(mybins,plotnames)\n",
    "\n",
    "pp.close()"
   ]
  },
  {
   "cell_type": "code",
   "execution_count": null,
   "id": "982f117f",
   "metadata": {},
   "outputs": [],
   "source": []
  }
 ],
 "metadata": {
  "kernelspec": {
   "display_name": "Python 3 (ipykernel)",
   "language": "python",
   "name": "python3"
  },
  "language_info": {
   "codemirror_mode": {
    "name": "ipython",
    "version": 3
   },
   "file_extension": ".py",
   "mimetype": "text/x-python",
   "name": "python",
   "nbconvert_exporter": "python",
   "pygments_lexer": "ipython3",
   "version": "3.9.12"
  }
 },
 "nbformat": 4,
 "nbformat_minor": 5
}
